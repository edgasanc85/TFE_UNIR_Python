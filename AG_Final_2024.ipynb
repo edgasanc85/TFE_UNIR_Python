{
 "cells": [
  {
   "cell_type": "code",
   "execution_count": 2,
   "id": "4d7ae652-e9a7-43d1-9adf-df45dcf3091a",
   "metadata": {},
   "outputs": [],
   "source": [
    "# Cargar Complementos\n",
    "from getpass import getpass\n",
    "import os\n",
    "import openai\n",
    "from langchain_openai import AzureOpenAIEmbeddings\n",
    "from langchain.vectorstores import Chroma\n",
    "from langchain.chains import RetrievalQA\n",
    "from langchain_openai import AzureChatOpenAI\n",
    "from typing import Union\n",
    "from fastapi import FastAPI\n",
    "import requests\n",
    "\n",
    "openai.api_type = \"azure\"\n",
    "openai.api_version = \"2024-02-01\"\n",
    "\n",
    "os.environ[\"AZURE_OPENAI_ENDPOINT\"] = \"https://edgasancdemo.openai.azure.com/\"\n",
    "os.environ[\"AZURE_OPENAI_API_KEY\"] = \"57a41271b75040089f77ac694022a12d\""
   ]
  },
  {
   "cell_type": "code",
   "execution_count": 4,
   "id": "4e286390-8d8f-474c-ac1e-415f3b6ce005",
   "metadata": {},
   "outputs": [],
   "source": [
    "from langchain_openai import AzureOpenAIEmbeddings\n",
    "from langchain.vectorstores import Chroma\n",
    "\n",
    "embeddings = AzureOpenAIEmbeddings(\n",
    "    azure_deployment=\"ucs-embedding-large\",\n",
    "    openai_api_version=\"2024-02-01\",\n",
    ")"
   ]
  },
  {
   "cell_type": "code",
   "execution_count": 7,
   "id": "18090b85-5e1c-4556-a32d-ca04e2ffee9a",
   "metadata": {},
   "outputs": [],
   "source": [
    "## Montar la base de datos CHROMADB\n",
    "vectordb = Chroma(persist_directory=\"./chroma_db_ac_2024\", embedding_function=embeddings)\n",
    "\n",
    "retriever = vectordb.as_retriever(\n",
    "    search_kwargs = {\"k\": 3}\n",
    ")"
   ]
  },
  {
   "cell_type": "code",
   "execution_count": 10,
   "id": "3f30b23f-f64e-48cb-b061-7bd449f26b74",
   "metadata": {},
   "outputs": [],
   "source": [
    "from langchain.chains import RetrievalQA\n",
    "from langchain_openai import AzureChatOpenAI\n",
    "\n",
    "chat = AzureChatOpenAI(\n",
    "    openai_api_version=\"2024-02-01\",\n",
    "    azure_deployment=\"ucs-chat-gpt\",\n",
    "    temperature=0.0\n",
    ")\n",
    "\n",
    "qa_chain = RetrievalQA.from_chain_type(\n",
    "    llm=chat,\n",
    "    chain_type=\"stuff\",\n",
    "    retriever=retriever\n",
    ")"
   ]
  },
  {
   "cell_type": "code",
   "execution_count": 13,
   "id": "0bc20e59-b44f-45e2-9dbf-b1a035086d2e",
   "metadata": {},
   "outputs": [
    {
     "name": "stderr",
     "output_type": "stream",
     "text": [
      "/home/a8bc75c5-f115-4fea-81db-5cc5de88dd6c/.local/lib/python3.10/site-packages/langchain_core/_api/deprecation.py:119: LangChainDeprecationWarning: The method `Chain.run` was deprecated in langchain 0.1.0 and will be removed in 0.3.0. Use invoke instead.\n",
      "  warn_deprecated(\n"
     ]
    },
    {
     "data": {
      "text/plain": [
       "'Los Acuerdos de Gestión son instrumentos de evaluación gerencial mediante los cuales cada gerente público, junto con su superior jerárquico, formaliza los compromisos a desarrollar durante un determinado período o vigencia. Estos compromisos deben estar directamente relacionados con la visión, misión, objetivos, planes, programas o proyectos de la entidad u organismo y la dependencia a la cual pertenece el gerente público. La formalización de estos acuerdos incluye la estructuración y priorización de los compromisos gerenciales y comportamentales a desarrollar y evaluar durante la respectiva vigencia.'"
      ]
     },
     "execution_count": 13,
     "metadata": {},
     "output_type": "execute_result"
    }
   ],
   "source": [
    "query = \"¿Qué son los acuerdos de gestion?\"\n",
    "qa_chain.run(query)"
   ]
  }
 ],
 "metadata": {
  "kernelspec": {
   "display_name": "anaconda-2024.02-py310",
   "language": "python",
   "name": "conda-env-anaconda-2024.02-py310-py"
  },
  "language_info": {
   "codemirror_mode": {
    "name": "ipython",
    "version": 3
   },
   "file_extension": ".py",
   "mimetype": "text/x-python",
   "name": "python",
   "nbconvert_exporter": "python",
   "pygments_lexer": "ipython3",
   "version": "3.10.14"
  }
 },
 "nbformat": 4,
 "nbformat_minor": 5
}
