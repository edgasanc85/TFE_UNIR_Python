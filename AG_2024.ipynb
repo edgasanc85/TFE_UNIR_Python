{
 "cells": [
  {
   "cell_type": "code",
   "execution_count": 4,
   "id": "2198eb35-08e8-41e1-a04a-a35ce773f34b",
   "metadata": {},
   "outputs": [],
   "source": [
    "# Cargar Complementos\n",
    "import os\n",
    "import openai\n",
    "import requests\n",
    "from langchain_openai import AzureOpenAIEmbeddings\n",
    "from langchain.vectorstores import Chroma\n",
    "from langchain.chains import RetrievalQA\n",
    "from langchain_openai import AzureChatOpenAI\n",
    "from langchain.document_loaders import PyPDFLoader\n",
    "from langchain_community.document_loaders.merge import MergedDataLoader\n",
    "\n",
    "openai.api_type = \"azure\"\n",
    "openai.api_version = \"2024-02-01\"\n",
    "\n",
    "os.environ[\"AZURE_OPENAI_ENDPOINT\"] = \"https://edgasancdemo.openai.azure.com/\"\n",
    "os.environ[\"AZURE_OPENAI_API_KEY\"] = \"57a41271b75040089f77ac694022a12d\""
   ]
  },
  {
   "cell_type": "code",
   "execution_count": 5,
   "id": "8869c18d-d901-403b-ab1b-ebf8668426d7",
   "metadata": {},
   "outputs": [],
   "source": [
    "loader_pdf_1 = PyPDFLoader(\"http://python.edgasanc.com/docs/ag_2024/01.pdf\")\n",
    "loader_pdf_2 = PyPDFLoader(\"http://python.edgasanc.com/docs/ag_2024/02.pdf\")\n",
    "loader_pdf_3 = PyPDFLoader(\"http://python.edgasanc.com/docs/ag_2024/03.pdf\")\n",
    "loader_pdf_4 = PyPDFLoader(\"http://python.edgasanc.com/docs/ag_2024/04.pdf\")\n",
    "loader_pdf_5 = PyPDFLoader(\"http://python.edgasanc.com/docs/ag_2024/05.pdf\")\n",
    "loader_pdf_6 = PyPDFLoader(\"http://python.edgasanc.com/docs/ag_2024/06.pdf\")\n",
    "loader_pdf_7 = PyPDFLoader(\"http://python.edgasanc.com/docs/ag_2024/07.pdf\")"
   ]
  },
  {
   "cell_type": "code",
   "execution_count": 8,
   "id": "35adb914-ea7b-4a47-9fbb-32658596262b",
   "metadata": {},
   "outputs": [],
   "source": [
    "loader_all = MergedDataLoader(loaders=[loader_pdf_1, loader_pdf_2, loader_pdf_3, loader_pdf_4, loader_pdf_5, loader_pdf_6, loader_pdf_7])"
   ]
  },
  {
   "cell_type": "code",
   "execution_count": 11,
   "id": "dc9f5a76-a1d1-4ab7-b28f-d54b6b2da572",
   "metadata": {},
   "outputs": [],
   "source": [
    "docs_all = loader_all.load()"
   ]
  },
  {
   "cell_type": "code",
   "execution_count": 13,
   "id": "f5b0c6a4-70b4-4268-8724-fb870e498652",
   "metadata": {},
   "outputs": [
    {
     "data": {
      "text/plain": [
       "146"
      ]
     },
     "execution_count": 13,
     "metadata": {},
     "output_type": "execute_result"
    }
   ],
   "source": [
    "len(docs_all)"
   ]
  },
  {
   "cell_type": "code",
   "execution_count": 18,
   "id": "c2d5698f-e88a-415c-a3fe-810d4ab63ecd",
   "metadata": {},
   "outputs": [
    {
     "data": {
      "text/plain": [
       "(list,\n",
       " 146,\n",
       " Document(page_content=' \\nDepartamento Administrativo del Servicio Civil Distrital  \\nCarrera 30 No 25 – 90, \\nPiso 9 Costado Oriental.  \\nTel: (57) 60 1 3680038  \\nCódigo Postal: 111311  \\nwww.serviciocivil.gov.co  \\n  \\n  \\n \\nPágina 7 de 9 - A-GDO -FM-008  Versión 8.0  24/01/2022  \\n \\n(Decreto 1227 de 2005, art.  100) \\nARTÍCULO  2.2.13.1.4  Capacitación y desarrollo de los gerentes públicos . Las acciones de \\ncapacitación y desarrollo de los gerentes públicos deberán establecerse a partir de la \\nevaluación de los resultados de su gestión y orientarse a la identificación, definición y \\nfortalecimiento de las competencias gerenciales.  \\n(Decreto 1227 de 2005, art.  101) \\nARTÍCULO  2.2.13.1.5  Evaluación de la gestión gerencial . La evaluación de la gestión \\ngerencial se realizará con base en los Acuerdos de Gestión, documentos escritos y \\nfirmados entre el superior jerárquico y el respectivo gerente público, con fundamento en \\nlos planes, programas y proyectos de la entidad para la correspondiente vigencia.  \\n(Decreto 1227 de 2005, art.  102) \\nARTÍCULO  2.2.13.1.6  Acuerdo de Gestión . El Acuerdo de Gestión se pactará para una \\nvigencia anual, la cual debe coincidir con los períodos de programación y evaluación \\nprevistos en el ciclo de planeación de la entidad. Habrá períodos inferiores dependiendo \\nde las fechas de vinculación del respectivo gerente público. Cuando un compromiso \\nabarque más del tiempo de la vigencia del acuerdo, se deberá determinar un indicador \\nque permita evaluarlo con algún resultado en el período anual estipulado.  \\n(Decreto 1227 de 2005, art.  103) \\nARTÍCULO  2.2.13.1.7  Concertación.  El Acuerdo de Gestión debe ser producto de un \\nproceso concertado entre el superior jerárquico y cada gerente público, entendiendo la \\nconcertación como un espacio de intercambio de expectativas personales y \\norganizacionales, sin que se vea afectada la facultad que tiene el nominador para decidir.  \\n(Decreto 1227 de 2005, art.  104) \\nARTÍCULO  2.2.13.1.8  Responsables . Las Oficinas de Planeación deberán prestar el apoyo \\nrequerido en el proceso de concertación de los Acuerdos, suministrando la información \\ndefinida en los respectivos planes operativos o de gestión anual de la entidad y los \\ncorrespondientes objetivos o propósitos de cada dependencia. Así mismo, deberán \\ncolaborar en la definición de los indicadores a través de los cuales se valorará el \\ndesempeño de los gerentes.  \\nEl jefe de recursos humanos o quien haga sus veces será el responsable de suministrar los \\ninstrumentos adoptados para la concertación y formalización de los acuerdos de gestión.  ', metadata={'source': 'http://python.edgasanc.com/docs/ag_2024/01.pdf', 'page': 6}))"
      ]
     },
     "execution_count": 18,
     "metadata": {},
     "output_type": "execute_result"
    }
   ],
   "source": [
    "type(docs_all), len(docs_all), docs_all[6]"
   ]
  },
  {
   "cell_type": "code",
   "execution_count": 21,
   "id": "8e45a0c8-3059-48cc-a63a-c25b9c4efd15",
   "metadata": {},
   "outputs": [],
   "source": [
    "from langchain.text_splitter import RecursiveCharacterTextSplitter\n",
    "\n",
    "text_splitter = RecursiveCharacterTextSplitter(\n",
    "    chunk_size= 1000,\n",
    "    chunk_overlap= 200,\n",
    "    length_function= len\n",
    "    )\n",
    "\n",
    "documents = text_splitter.split_documents(docs_all)"
   ]
  },
  {
   "cell_type": "code",
   "execution_count": 24,
   "id": "10302b96-2686-4550-87b4-4a98de63c061",
   "metadata": {},
   "outputs": [
    {
     "data": {
      "text/plain": [
       "(391,\n",
       " Document(page_content='Departamento Administrativo del Servicio Civil Distrital  \\nCarrera 30 No 25 – 90, \\nPiso 9 Costado Oriental.  \\nTel: (57) 60 1 3680038  \\nCódigo Postal: 111311  \\nwww.serviciocivil.gov.co  \\n  \\n  \\n \\nPágina 5 de 9 - A-GDO -FM-008  Versión 8.0  24/01/2022  \\n \\n \\n \\n \\nDECRETO 1083 DE 2015  \\n(Mayo 26)  \\nPor medio del cual se expide el Decreto Único Reglamentario del Sector de Función \\nPública.  \\n(…) \\nCAPÍTULO 2  \\nFUNCIONES DE LOS EMPLEOS SEGÚN EL NIVEL JERÁRQUICO  \\nARTÍCULO  2.2.2.2.1  Nivel Directivo . Comprende los empleos a los cuales corresponden \\nfunciones de dirección general, de formulación de políticas institucionales y de adopción \\nde planes, programas y proyectos.  \\nDe acuerdo con su naturaleza, los empleos de este nivel tendrán, entre otras, las \\nsiguientes funciones:  \\n1. Fijar las políticas y adoptar los planes generales relacionados con la institución o el \\nsector al que pertenecen y velar por el cumplimiento de los términos y condiciones \\nestablecidos para su ejecución.', metadata={'source': 'http://python.edgasanc.com/docs/ag_2024/01.pdf', 'page': 4}))"
      ]
     },
     "execution_count": 24,
     "metadata": {},
     "output_type": "execute_result"
    }
   ],
   "source": [
    "len(documents), documents[10]"
   ]
  },
  {
   "cell_type": "code",
   "execution_count": 27,
   "id": "117af907-d741-451d-a8a3-e6ba98660f89",
   "metadata": {},
   "outputs": [],
   "source": [
    "from langchain_openai import AzureOpenAIEmbeddings\n",
    "from langchain.vectorstores import Chroma\n",
    "\n",
    "embeddings = AzureOpenAIEmbeddings(\n",
    "    azure_deployment=\"ucs-embedding-large\",\n",
    "    openai_api_version=\"2024-02-01\",\n",
    ")\n",
    "\n",
    "vectorstore = Chroma.from_documents(\n",
    "    documents=documents,\n",
    "    embedding=embeddings\n",
    ")"
   ]
  },
  {
   "cell_type": "code",
   "execution_count": 30,
   "id": "2de35bdc-4790-48bb-9811-3b4a76c6c9a9",
   "metadata": {},
   "outputs": [
    {
     "name": "stderr",
     "output_type": "stream",
     "text": [
      "/home/a8bc75c5-f115-4fea-81db-5cc5de88dd6c/.local/lib/python3.10/site-packages/langchain_core/_api/deprecation.py:119: LangChainDeprecationWarning: Since Chroma 0.4.x the manual persistence method is no longer supported as docs are automatically persisted.\n",
      "  warn_deprecated(\n"
     ]
    }
   ],
   "source": [
    "base_datos = Chroma.from_documents(documents, embeddings, persist_directory=\"./chroma_db_ac_2024\")\n",
    "base_datos.persist()"
   ]
  },
  {
   "cell_type": "code",
   "execution_count": 34,
   "id": "f95dcf64-c10d-4ece-9a87-d9f72d76c6ec",
   "metadata": {},
   "outputs": [],
   "source": [
    "retriever = base_datos.as_retriever(\n",
    "    search_kwargs = {\"k\": 3}\n",
    ")"
   ]
  },
  {
   "cell_type": "code",
   "execution_count": 37,
   "id": "f2086258-c178-4054-8919-f4ad78a8f071",
   "metadata": {},
   "outputs": [],
   "source": [
    "from langchain.chains import RetrievalQA\n",
    "from langchain_openai import AzureChatOpenAI\n",
    "\n",
    "chat = AzureChatOpenAI(\n",
    "    openai_api_version=\"2024-02-01\",\n",
    "    azure_deployment=\"ucs-chat-gpt\",\n",
    "    temperature=0.0\n",
    ")\n",
    "\n",
    "qa_chain = RetrievalQA.from_chain_type(\n",
    "    llm=chat,\n",
    "    chain_type=\"stuff\",\n",
    "    retriever=retriever\n",
    ")"
   ]
  },
  {
   "cell_type": "code",
   "execution_count": 40,
   "id": "90862c3d-84ba-463c-a61d-45d9a3159e71",
   "metadata": {},
   "outputs": [
    {
     "name": "stderr",
     "output_type": "stream",
     "text": [
      "/home/a8bc75c5-f115-4fea-81db-5cc5de88dd6c/.local/lib/python3.10/site-packages/langchain_core/_api/deprecation.py:119: LangChainDeprecationWarning: The method `Chain.run` was deprecated in langchain 0.1.0 and will be removed in 0.3.0. Use invoke instead.\n",
      "  warn_deprecated(\n"
     ]
    },
    {
     "data": {
      "text/plain": [
       "'Los Acuerdos de Gestión son instrumentos de evaluación gerencial mediante los cuales cada gerente público, junto con su superior jerárquico, formaliza los compromisos a desarrollar durante un determinado período o vigencia. Estos compromisos deben estar directamente relacionados con la visión, misión, objetivos, planes, programas o proyectos de la entidad u organismo y la dependencia a la cual pertenece el gerente público. La formalización de estos acuerdos incluye la estructuración y priorización de compromisos gerenciales y comportamentales a desarrollar y evaluar durante la respectiva vigencia.'"
      ]
     },
     "execution_count": 40,
     "metadata": {},
     "output_type": "execute_result"
    }
   ],
   "source": [
    "query = \"¿Qué son los acuerdos de gestion?\"\n",
    "qa_chain.run(query)"
   ]
  },
  {
   "cell_type": "code",
   "execution_count": 42,
   "id": "cd1778ba-488b-4e80-8c13-faacaa319b42",
   "metadata": {},
   "outputs": [
    {
     "data": {
      "text/plain": [
       "'Para fijar los Acuerdos de Gestión, debes seguir estos pasos:\\n\\n1. **Concertación de Compromisos**: El gerente público y su superior jerárquico deben estructurar y priorizar los compromisos gerenciales y comportamentales que se desarrollarán y evaluarán durante la vigencia del acuerdo. Estos compromisos deben estar alineados con la visión, misión, objetivos, planes, programas o proyectos de la entidad u organismo y la dependencia a la cual pertenece el gerente público.\\n\\n2. **Definición de Indicadores y Actividades**: Los compromisos deben ser medibles, realizables, verificables y cuantificables. Se deben establecer entre tres (3) y cinco (5) compromisos, incluyendo la definición de indicadores y la descripción de las actividades a través de las cuales se desarrollarán o ejecutarán los acuerdos establecidos. Cada compromiso tendrá un peso porcentual que oscilará entre un mínimo de 10% y un máximo de 40%, dependiendo de su relevancia y complejidad.\\n\\n3. **Formalización del Acuerdo**: La formalización de los acuerdos de gestión se puede realizar a través del registro en el Módulo de Acuerdos de Gestión del SIDEAP (Sistema de Información y Evaluación del Desempeño de los Servidores Públicos). La formalización debe registrarse a más tardar al término de los 4 meses o al 28 de febrero, según sea el caso, e integrará tanto el componente laboral como el comportamental.\\n\\n4. **Vigencia del Acuerdo**: El Acuerdo de Gestión tiene una vigencia anual, que va desde el 1º de enero hasta el 31 de diciembre de cada año. Sin embargo, pueden existir acuerdos de una duración inferior, dependiendo de la fecha de vinculación de cada gerente público. En todos los casos, los acuerdos se proyectarán con fecha de cierre el 31 de diciembre.\\n\\n5. **Apoyo en el Proceso**: En el proceso de concertación de los Acuerdos de Gestión intervienen el gerente público y su superior jerárquico, quienes deben trabajar conjuntamente para estructurar y priorizar los compromisos.\\n\\nSiguiendo estos pasos, podrás fijar los Acuerdos de Gestión de manera adecuada y conforme a las normativas establecidas.'"
      ]
     },
     "execution_count": 42,
     "metadata": {},
     "output_type": "execute_result"
    }
   ],
   "source": [
    "query = \"¿Como fijo los acuerdos de gestión?\"\n",
    "qa_chain.run(query)"
   ]
  }
 ],
 "metadata": {
  "kernelspec": {
   "display_name": "anaconda-2024.02-py310",
   "language": "python",
   "name": "conda-env-anaconda-2024.02-py310-py"
  },
  "language_info": {
   "codemirror_mode": {
    "name": "ipython",
    "version": 3
   },
   "file_extension": ".py",
   "mimetype": "text/x-python",
   "name": "python",
   "nbconvert_exporter": "python",
   "pygments_lexer": "ipython3",
   "version": "3.10.14"
  }
 },
 "nbformat": 4,
 "nbformat_minor": 5
}
